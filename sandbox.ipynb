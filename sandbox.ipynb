{
 "cells": [
  {
   "cell_type": "code",
   "execution_count": 19,
   "metadata": {},
   "outputs": [],
   "source": [
    "import glob\n",
    "import json\n",
    "import shutil\n",
    "import os\n",
    "promising_categories = ['Question Answering',\n",
    "'Question Decomposition',\n",
    "'Question Generation',\n",
    "'Question Rewriting',\n",
    "'Question Understanding',\n",
    "'Section Classification',\n",
    "'Explanation',\n",
    "'Text Categorization',\n",
    "'Paraphrasing',\n",
    "'Toxic Language Detection',]\n",
    "\n",
    "check_mono_eng = lambda doc: doc[\"Input_language\"][0] == doc[\"Output_language\"][0] == doc[\"Instruction_language\"][0] == \"English\"\n",
    "file_list = glob.glob(\"tasks/*\")\n",
    "for path in sorted(file_list):\n",
    "    with open(path) as f:\n",
    "        j = json.load(f)\n",
    "        for categ in promising_categories:\n",
    "            categ_dir = \"task-splits/\" +categ.lower().replace(\" \", \"_\") + \"/\"\n",
    "            if not os.path.exists(categ_dir):\n",
    "                os.mkdir(categ_dir)\n",
    "\n",
    "            if j[\"Categories\"][0] == categ and check_mono_eng(j):\n",
    "                newpath = categ_dir + os.path.basename(path)\n",
    "                shutil.copyfile(path, newpath)\n"
   ]
  },
  {
   "cell_type": "code",
   "execution_count": 746,
   "metadata": {},
   "outputs": [],
   "source": [
    "categs = set()\n",
    "for path in sorted(glob.glob(\"tasks/*\")):\n",
    "    j = json.load(open(path))\n",
    "    if len(j[\"Categories\"]) != 1:\n",
    "        print(j[\"Categories\"])\n",
    "    # print(c)\n",
    "    # categs.update(c)"
   ]
  },
  {
   "cell_type": "code",
   "execution_count": 739,
   "metadata": {},
   "outputs": [],
   "source": [
    "categs = sorted(list(categs))\n"
   ]
  },
  {
   "cell_type": "code",
   "execution_count": 34,
   "metadata": {},
   "outputs": [],
   "source": [
    "import json\n",
    "import os\n",
    "import shutil\n",
    "initial_tasks = [\n",
    "    'task075_squad1.1_answer_generation.json',\n",
    "    'task176_break_decompose_questions.json',\n",
    "    'task192_hotpotqa_sentence_generation.json',\n",
    "    'task223_quartz_explanation_generation.json',\n",
    "    'task593_sciq_explanation_generation.json']\n",
    "# os.mkdir(\"initial_task_set\")\n",
    "\n",
    "prefix = \"tasks/\"\n",
    "\n",
    "for task in initial_tasks:\n",
    "    shutil.copy(prefix+task, \"initial_task_set\")\n",
    "\n"
   ]
  },
  {
   "cell_type": "code",
   "execution_count": 23,
   "metadata": {},
   "outputs": [],
   "source": [
    "import json\n",
    "with open(\"translated_tasks/fin-translated-task192_hotpotqa_sentence_generation.json\") as f:\n",
    "    d_fin = json.load(f)\n",
    "with open(\"initial_task_set/task192_hotpotqa_sentence_generation.json\") as f:\n",
    "    d_en = json.load(f)"
   ]
  },
  {
   "cell_type": "code",
   "execution_count": 45,
   "metadata": {},
   "outputs": [],
   "source": [
    "import numpy as np\n",
    "def wrap_print(s, max_len=150):\n",
    "    if len(s) > max_len:\n",
    "        print(s[:max_len])\n",
    "        wrap_print(s[max_len:], max_len)\n",
    "    else:\n",
    "        print(s)\n",
    "\n",
    "np.random.seed(1)\n",
    "indices = np.random.choice(range(len(d_fin[\"Instances\"])), 50)\n",
    "\n",
    "def print_range(a,b):\n",
    "    for i in indices[a:b]:\n",
    "        wrap_print(d_en[\"Instances\"][i][\"input\"])\n",
    "        print()\n",
    "        wrap_print(d_fin[\"Instances\"][i][\"input\"])\n",
    "        print()\n",
    "        print()"
   ]
  },
  {
   "cell_type": "code",
   "execution_count": 46,
   "metadata": {},
   "outputs": [
    {
     "name": "stdout",
     "output_type": "stream",
     "text": [
      "Ross Case (born 1 November 1951) is an Australian former tennis player. His career-high singles ranking was world no. 14. Question: Who had the highes\n",
      "t singles ranking Tomáš Šmíd or Ross Case? Answer: Tomáš Šmíd\n",
      "\n",
      "Ross Case (s. 1. marraskuuta 1951) on australialainen entinen tennispelaaja. Hänen uransa korkein sijoitus kaksinpelissä oli maailmanlistan 14. sija. \n",
      "Kysymys: Tomáš Šmíd vai Ross Case? Vastaus: Tom Cáme, joka oli maailmanmestari: Tomáš Šmíd\n",
      "\n",
      "\n",
      "Getty Oil is an American oil marketing company with its origins as part of the large integrated oil company founded by the father of J. Paul Getty. Qu\n",
      "estion: What was the American industrialist that founded an American oil marketing company named by a 1957 \"Fortune\" magazine? Answer: the richest liv\n",
      "ing American\n",
      "\n",
      "Getty Oil on yhdysvaltalainen öljyn markkinointiyritys, joka on osa suurta integroitua öljy-yhtiötä, jonka perusti J. Paul Gettyn isä. Kysymys: Minkä \n",
      "amerikkalaisen teollisuusmiehen, joka perusti amerikkalaisen öljyn markkinointiyhtiön, nimesi vuonna 1957 ilmestynyt Fortune-lehti? Vastaus: rikkain e\n",
      "lossa oleva amerikkalainen\n",
      "\n",
      "\n",
      "Holiday Inn New Delhi / Mayur Vihar / NOIDA is a hotel in East Delhi, India, near NOIDA. It opened in 2011 alongside its sister property, Crowne Plaza\n",
      " New Delhi / Mayur Vihar / NOIDA. The hotel is part of the InterContinental Hotels Group, an international hotel chain hotel founded in 1946. This pro\n",
      "perty is owned by Eros Resorts & Hotels Limited, a Delhi based real estate and hospitality group who also own and manage other properties in the area.\n",
      " The management of the hotel is delegated to hoteliers from India and abroad. Question: What British multinational owns the Holiday Inn in New Dehli? \n",
      "Answer: InterContinental Hotels Group\n",
      "\n",
      "Holiday Inn New Delhi / Mayur Vihar / NOIDA on hotelli Itä-Delhissä, Intiassa, lähellä NOIDAa. Se avattiin vuonna 2011 sisarhotelli Crowne Plaza New D\n",
      "elhi / Mayur Vihar / NOIDA:n rinnalle. Hotelli kuuluu InterContinental Hotels Groupiin, joka on vuonna 1946 perustettu kansainvälinen hotelliketju. Ki\n",
      "inteistön omistaa Eros Resorts & Hotels Limited, joka on Delhissä sijaitseva kiinteistö- ja majoituskonserni, joka omistaa ja hallinnoi myös muita kii\n",
      "nteistöjä alueella. Hotellin hallinnointi on delegoitu intialaisille ja ulkomaisille hotelliyrittäjille. Kysymys: Mikä brittiläinen monikansallinen yr\n",
      "itys omistaa Holiday Innin New Dehlissä? Vastaus: Dehli, Dehli, Dehli, Dehli, Dehli: Dehli: InterContinental Hotels Group\n",
      "\n",
      "\n"
     ]
    }
   ],
   "source": [
    "print_range(6,9)"
   ]
  },
  {
   "cell_type": "code",
   "execution_count": null,
   "metadata": {},
   "outputs": [],
   "source": []
  },
  {
   "attachments": {},
   "cell_type": "markdown",
   "metadata": {},
   "source": [
    "# Count \"Question:\"-substrings in inpus"
   ]
  },
  {
   "cell_type": "code",
   "execution_count": 30,
   "metadata": {},
   "outputs": [],
   "source": [
    "import json\n",
    "import glob\n",
    "\n",
    "is_monolingual = lambda doc: doc[\"Input_language\"][0] == doc[\"Output_language\"][0] == doc[\"Instruction_language\"][0] == \"English\" and len(doc[\"Input_language\"])==1\n",
    "\n",
    "def yield_docs():\n",
    "    tasks = glob.glob(\"tasks/*json\")\n",
    "    for task in sorted(tasks):\n",
    "        with open(task) as f:\n",
    "            d = json.load(f)\n",
    "            if is_monolingual(d):\n",
    "                yield task, d\n",
    "res = {}\n",
    "\n",
    "for task, doc in yield_docs():\n",
    "    q = [s for s in doc[\"Instances\"] if \"Question:\" in s[\"input\"]]\n",
    "    a = [s for s in doc[\"Instances\"] if \"Answer:\" in s[\"input\"]]\n",
    "    res.update({\n",
    "        task: {\n",
    "            \"has_q\": len(q), \n",
    "            \"total_len\": len(doc[\"Instances\"]),\n",
    "            \"has_a\": len(a), \n",
    "            \"total_len\": len(doc[\"Instances\"]),\n",
    "            }\n",
    "        })"
   ]
  },
  {
   "attachments": {},
   "cell_type": "markdown",
   "metadata": {},
   "source": [
    "# Categorize tasks to questions = {all, some, none}"
   ]
  },
  {
   "cell_type": "code",
   "execution_count": 31,
   "metadata": {},
   "outputs": [],
   "source": [
    "q_in_all = list()\n",
    "has_some_qs = list()\n",
    "has_no_qs = list()\n",
    "other = list()\n",
    "for k, v in res.items():\n",
    "    if v[\"has_q\"] == v[\"total_len\"]:\n",
    "        res[k].update({\"questions\": \"all\"})\n",
    "    elif v[\"has_q\"] > 0:\n",
    "        res[k].update({\"questions\": \"some\"})\n",
    "        # has_some_qs.append(k)\n",
    "    elif v[\"has_q\"] == 0:\n",
    "        res[k].update({\"questions\": \"none\"})\n",
    "    else:\n",
    "        assert False\n",
    "        \n",
    "    if v[\"has_a\"] == v[\"total_len\"]:\n",
    "        res[k].update({\"answers\": \"all\"})\n",
    "    elif v[\"has_a\"] > 0:\n",
    "        res[k].update({\"answers\": \"some\"})\n",
    "        # has_some_qs.append(k)\n",
    "    elif v[\"has_a\"] == 0:\n",
    "        res[k].update({\"answers\": \"none\"})"
   ]
  },
  {
   "cell_type": "code",
   "execution_count": 29,
   "metadata": {},
   "outputs": [
    {
     "data": {
      "text/plain": [
       "9"
      ]
     },
     "execution_count": 29,
     "metadata": {},
     "output_type": "execute_result"
    }
   ],
   "source": [
    "only_ans = list()\n",
    "for k, v in res.items():\n",
    "    if v[\"questions\"] \n",
    "    if v[\"questions\"] == \"none\" and v[\"answers\"] == \"all\":\n",
    "        only_ans.append(k)\n",
    "\n",
    "print(len(only_ans), \"tasks have no questions but only answers\")\n"
   ]
  },
  {
   "cell_type": "code",
   "execution_count": 32,
   "metadata": {},
   "outputs": [],
   "source": [
    "\n",
    "for k, v in res.items():\n",
    "    res[k].update({\n",
    "        \"q_perc\": v[\"has_q\"] / v[\"total_len\"],   \n",
    "        \"a_perc\": v[\"has_a\"] / v[\"total_len\"]\n",
    "        })"
   ]
  },
  {
   "cell_type": "code",
   "execution_count": 53,
   "metadata": {},
   "outputs": [],
   "source": [
    "for i, (k,v) in enumerate(res.items()):\n",
    "    # if v[\"a_perc\"]> 0.01 and v[\"a_perc\"] < 1.0 and v[\"q_perc\"]> 0.01 and v[\"q_perc\"] < 1.0:\n",
    "    if v[\"a_perc\"]< 0.01 and v[\"q_perc\"]< 0.01:\n",
    "        res[k].update({\"low_perc_qa\": True})\n",
    "    else:\n",
    "        res[k].update({\"low_perc_qa\": False})"
   ]
  },
  {
   "attachments": {},
   "cell_type": "markdown",
   "metadata": {},
   "source": [
    "# Categorical or not?"
   ]
  },
  {
   "cell_type": "code",
   "execution_count": 54,
   "metadata": {},
   "outputs": [],
   "source": [
    "for task, doc in yield_docs():\n",
    "    categories = set()\n",
    "    for instance in doc[\"Instances\"]:\n",
    "        # for o in instance[\"output\"]:\n",
    "            # print(o)\n",
    "        categories.update(instance[\"output\"])\n",
    "    res[task].update({\"levels\":len(categories)})\n"
   ]
  },
  {
   "attachments": {},
   "cell_type": "markdown",
   "metadata": {},
   "source": [
    "# Add categorical-label"
   ]
  },
  {
   "cell_type": "code",
   "execution_count": 55,
   "metadata": {},
   "outputs": [],
   "source": [
    "import matplotlib.pyplot as plt\n",
    "\n",
    "\n",
    "a = [(k,v) for (k, v) in res.items() if v[\"levels\"] >= 30 ]\n",
    "for k,v in a:\n",
    "    res[k].update({\"type\": \"free-form\"})\n",
    "\n",
    "a = [(k,v) for (k, v) in res.items() if (v[\"levels\"] < 30 and v[\"levels\"] >= 10)]\n",
    "for k,v in a:\n",
    "    res[k].update({\"type\": \"maybe-categorical\"})\n",
    "\n",
    "a = [(k,v) for (k, v) in res.items() if v[\"levels\"] < 10]\n",
    "for k,v in a:\n",
    "    res[k].update({\"type\": \"categorical\"})\n"
   ]
  },
  {
   "cell_type": "code",
   "execution_count": 57,
   "metadata": {},
   "outputs": [],
   "source": [
    "with open(\"classifications_of_tasks.json\", \"w\") as out:\n",
    "    json.dump(res, out, indent=2)"
   ]
  },
  {
   "cell_type": "code",
   "execution_count": 58,
   "metadata": {},
   "outputs": [],
   "source": [
    "# tmp = list()\n",
    "# for k, v in res.items():\n",
    "#     if v.get(\"type\") == \"categorical\" and v.get(\"low_perc_qa\") == True:\n",
    "#         tmp.append(k)\n",
    "# len(tmp)\n",
    "\n",
    "# import shutil\n",
    "\n",
    "# for p in tmp:\n",
    "#     shutil.copy2(p, \"tasks-with-low-qa-in-input/categorical/\")\n",
    "\n",
    "\n",
    "\n",
    "for k, v in res.items():\n",
    "    if v.get(\"type\") == \"\" and v.get(\"low_perc_qa\") == True:\n",
    "        tmp.append(k)\n",
    "len(tmp)\n",
    "\n",
    "import shutil\n",
    "\n",
    "for p in tmp:\n",
    "    shutil.copy2(p, \"tasks-with-low-qa-in-input/categorical/\")"
   ]
  },
  {
   "cell_type": "code",
   "execution_count": null,
   "metadata": {},
   "outputs": [],
   "source": []
  }
 ],
 "metadata": {
  "kernelspec": {
   "display_name": "base",
   "language": "python",
   "name": "python3"
  },
  "language_info": {
   "codemirror_mode": {
    "name": "ipython",
    "version": 3
   },
   "file_extension": ".py",
   "mimetype": "text/x-python",
   "name": "python",
   "nbconvert_exporter": "python",
   "pygments_lexer": "ipython3",
   "version": "3.10.10"
  },
  "orig_nbformat": 4
 },
 "nbformat": 4,
 "nbformat_minor": 2
}
